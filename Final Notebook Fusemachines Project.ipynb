{
 "cells": [
  {
   "cell_type": "code",
   "execution_count": 1,
   "id": "c077cf91",
   "metadata": {},
   "outputs": [
    {
     "name": "stdout",
     "output_type": "stream",
     "text": [
      "Requirement already satisfied: catboost in c:\\users\\hp\\anaconda3\\lib\\site-packages (1.1.1)\n",
      "Requirement already satisfied: matplotlib in c:\\users\\hp\\anaconda3\\lib\\site-packages (from catboost) (3.7.0)\n",
      "Requirement already satisfied: graphviz in c:\\users\\hp\\anaconda3\\lib\\site-packages (from catboost) (0.20.1)\n",
      "Requirement already satisfied: six in c:\\users\\hp\\anaconda3\\lib\\site-packages (from catboost) (1.16.0)\n",
      "Requirement already satisfied: plotly in c:\\users\\hp\\anaconda3\\lib\\site-packages (from catboost) (5.9.0)\n",
      "Requirement already satisfied: pandas>=0.24.0 in c:\\users\\hp\\anaconda3\\lib\\site-packages (from catboost) (1.5.3)\n",
      "Requirement already satisfied: scipy in c:\\users\\hp\\anaconda3\\lib\\site-packages (from catboost) (1.10.0)\n",
      "Requirement already satisfied: numpy>=1.16.0 in c:\\users\\hp\\anaconda3\\lib\\site-packages (from catboost) (1.23.5)\n",
      "Requirement already satisfied: python-dateutil>=2.8.1 in c:\\users\\hp\\anaconda3\\lib\\site-packages (from pandas>=0.24.0->catboost) (2.8.2)\n",
      "Requirement already satisfied: pytz>=2020.1 in c:\\users\\hp\\anaconda3\\lib\\site-packages (from pandas>=0.24.0->catboost) (2022.7)\n",
      "Requirement already satisfied: pillow>=6.2.0 in c:\\users\\hp\\anaconda3\\lib\\site-packages (from matplotlib->catboost) (9.4.0)\n",
      "Requirement already satisfied: kiwisolver>=1.0.1 in c:\\users\\hp\\anaconda3\\lib\\site-packages (from matplotlib->catboost) (1.4.4)\n",
      "Requirement already satisfied: fonttools>=4.22.0 in c:\\users\\hp\\anaconda3\\lib\\site-packages (from matplotlib->catboost) (4.25.0)\n",
      "Requirement already satisfied: packaging>=20.0 in c:\\users\\hp\\anaconda3\\lib\\site-packages (from matplotlib->catboost) (22.0)\n",
      "Requirement already satisfied: pyparsing>=2.3.1 in c:\\users\\hp\\anaconda3\\lib\\site-packages (from matplotlib->catboost) (3.0.9)\n",
      "Requirement already satisfied: cycler>=0.10 in c:\\users\\hp\\anaconda3\\lib\\site-packages (from matplotlib->catboost) (0.11.0)\n",
      "Requirement already satisfied: contourpy>=1.0.1 in c:\\users\\hp\\anaconda3\\lib\\site-packages (from matplotlib->catboost) (1.0.5)\n",
      "Requirement already satisfied: tenacity>=6.2.0 in c:\\users\\hp\\anaconda3\\lib\\site-packages (from plotly->catboost) (8.0.1)\n"
     ]
    }
   ],
   "source": [
    "!pip3 install catboost"
   ]
  },
  {
   "cell_type": "code",
   "execution_count": 1,
   "id": "88f4cb4f",
   "metadata": {},
   "outputs": [],
   "source": [
    "import pandas as pd \n",
    "import numpy as np\n",
    "import matplotlib.pyplot as plt\n",
    "import seaborn as sns\n",
    "import pickle\n",
    "from sklearn.preprocessing import LabelEncoder \n",
    "from sklearn.preprocessing import StandardScaler\n",
    "from sklearn.metrics import accuracy_score,confusion_matrix,precision_score,classification_report,f1_score\n",
    "from sklearn.model_selection import train_test_split\n",
    "from sklearn.metrics import recall_score\n",
    "from sklearn.ensemble import RandomForestClassifier, AdaBoostClassifier\n",
    "from catboost import CatBoostClassifier\n",
    "from sklearn.naive_bayes import GaussianNB\n",
    "from sklearn.linear_model import SGDClassifier\n",
    "from sklearn.ensemble import BaggingClassifier\n",
    "%matplotlib inline"
   ]
  },
  {
   "cell_type": "code",
   "execution_count": 2,
   "id": "9efc7055",
   "metadata": {},
   "outputs": [],
   "source": [
    "df = pd.read_csv(\"features_3_sec.csv\")\n",
    "\n",
    "label2index = dict()\n",
    "index2label = dict()\n",
    "for i,unq_label in enumerate(df.label.unique()):\n",
    "    label2index[unq_label] = i\n",
    "    index2label[i] = unq_label\n",
    "df.label = [label2index[l] for l in df.label]\n",
    "df = df.sample(frac=1).reset_index(drop=True)\n",
    "df.drop(labels = ['filename','length'], axis=1, inplace = True)\n",
    "X = df.iloc[:,:-1]\n",
    "y = df.iloc[:,-1]\n",
    "my_scaler = StandardScaler()\n",
    "df_X = pd.DataFrame(my_scaler.fit_transform(X), columns=X.columns)\n",
    "X_train, X_test, y_train, y_test = train_test_split(df_X, y, train_size=0.9, stratify = y)"
   ]
  },
  {
   "cell_type": "markdown",
   "id": "6740d847",
   "metadata": {},
   "source": [
    "Saving the Xy_train and Xy_test so that train and test won't get mixed up afterwards."
   ]
  },
  {
   "cell_type": "code",
   "execution_count": 5,
   "id": "6e72741e",
   "metadata": {},
   "outputs": [],
   "source": [
    "aaa = X_train.assign(label=y_train.values)\n",
    "bbb = X_test.assign(label=y_test.values)\n",
    "aaa.to_csv(\"Xy_train.csv\",index=False)\n",
    "bbb.to_csv(\"Xy_test.csv\",index=False)"
   ]
  },
  {
   "cell_type": "code",
   "execution_count": 6,
   "id": "b6fcfa82",
   "metadata": {},
   "outputs": [
    {
     "name": "stdout",
     "output_type": "stream",
     "text": [
      "0.9028642209594452\n",
      "0.9029029029029029\n",
      "0.9026165359007589\n",
      "0.902858585858586\n"
     ]
    }
   ],
   "source": [
    "cat = CatBoostClassifier(loss_function='MultiClass', verbose=False)\n",
    "cat.fit(X_train,y_train)\n",
    "y_pred = cat.predict(X_test)\n",
    "precision_cat = precision_score(y_test, y_pred,average='macro')\n",
    "accuracy_cat = accuracy_score(y_test, y_pred)\n",
    "f1_cat = f1_score(y_test, y_pred,average='macro')\n",
    "recall_cat = recall_score(y_test, y_pred,average='macro')\n",
    "print(precision_cat)\n",
    "print(accuracy_cat)\n",
    "print(f1_cat)\n",
    "print(recall_cat)"
   ]
  },
  {
   "cell_type": "code",
   "execution_count": 7,
   "id": "0cb0fc3c",
   "metadata": {},
   "outputs": [],
   "source": [
    "with open('model_cat.pkl', 'wb') as f:\n",
    "    pickle.dump(cat, f)"
   ]
  },
  {
   "cell_type": "code",
   "execution_count": 3,
   "id": "f1ec8f26",
   "metadata": {},
   "outputs": [
    {
     "name": "stdout",
     "output_type": "stream",
     "text": [
      "0.8941190013666036\n",
      "0.8938938938938938\n",
      "0.8935004309791237\n",
      "0.8938787878787879\n"
     ]
    }
   ],
   "source": [
    "rforest_normal = RandomForestClassifier(n_estimators=1000)\n",
    "rforest_normal.fit(X_train,y_train)\n",
    "\n",
    "y_pred = rforest_normal.predict(X_test)\n",
    "precision_r = precision_score(y_test, y_pred,average='macro')\n",
    "accuracy_r = accuracy_score(y_test, y_pred)\n",
    "f1_r = f1_score(y_test, y_pred,average='macro')\n",
    "recall_r = recall_score(y_test, y_pred,average='macro')\n",
    "print(precision_r)\n",
    "print(accuracy_r)\n",
    "print(f1_r)\n",
    "print(recall_r)"
   ]
  },
  {
   "cell_type": "code",
   "execution_count": 4,
   "id": "28cb931c",
   "metadata": {},
   "outputs": [],
   "source": [
    "with open('model_rforest.pkl', 'wb') as f:\n",
    "    pickle.dump(rforest_normal, f)"
   ]
  },
  {
   "cell_type": "code",
   "execution_count": 5,
   "id": "cf012978",
   "metadata": {},
   "outputs": [
    {
     "name": "stderr",
     "output_type": "stream",
     "text": [
      "C:\\Users\\Hp\\anaconda3\\lib\\site-packages\\sklearn\\ensemble\\_base.py:166: FutureWarning: `base_estimator` was renamed to `estimator` in version 1.2 and will be removed in 1.4.\n",
      "  warnings.warn(\n"
     ]
    },
    {
     "name": "stdout",
     "output_type": "stream",
     "text": [
      "0.9060257548072432\n",
      "0.9039039039039038\n",
      "0.9028920433888905\n",
      "0.9038484848484849\n"
     ]
    }
   ],
   "source": [
    "ada1 = AdaBoostClassifier(base_estimator = rforest_normal,n_estimators=5)\n",
    "ada1.fit(X_train,y_train)\n",
    "y_pred = ada1.predict(X_test)\n",
    "precision_ada = precision_score(y_test, y_pred,average='macro')\n",
    "accuracy_ada = accuracy_score(y_test, y_pred)\n",
    "f1_ada = f1_score(y_test, y_pred,average='macro')\n",
    "recall_ada = recall_score(y_test, y_pred,average='macro')\n",
    "print(precision_ada)\n",
    "print(accuracy_ada)\n",
    "print(f1_ada)\n",
    "print(recall_ada)"
   ]
  },
  {
   "cell_type": "code",
   "execution_count": 6,
   "id": "28a5a8a5",
   "metadata": {},
   "outputs": [],
   "source": [
    "with open('model_ada.pkl', 'wb') as f:\n",
    "    pickle.dump(ada1, f)"
   ]
  },
  {
   "cell_type": "code",
   "execution_count": 12,
   "id": "452eeb31",
   "metadata": {},
   "outputs": [
    {
     "name": "stderr",
     "output_type": "stream",
     "text": [
      "C:\\Users\\Hp\\anaconda3\\lib\\site-packages\\sklearn\\ensemble\\_base.py:166: FutureWarning: `base_estimator` was renamed to `estimator` in version 1.2 and will be removed in 1.4.\n",
      "  warnings.warn(\n"
     ]
    },
    {
     "name": "stdout",
     "output_type": "stream",
     "text": [
      "0.6833330777964721\n",
      "0.6846846846846847\n",
      "0.6816629624464313\n",
      "0.6846464646464647\n"
     ]
    },
    {
     "name": "stderr",
     "output_type": "stream",
     "text": [
      "C:\\Users\\Hp\\anaconda3\\lib\\site-packages\\sklearn\\ensemble\\_bagging.py:789: UserWarning: Some inputs do not have OOB scores. This probably means too few estimators were used to compute any reliable oob estimates.\n",
      "  warn(\n",
      "C:\\Users\\Hp\\anaconda3\\lib\\site-packages\\sklearn\\ensemble\\_bagging.py:795: RuntimeWarning: invalid value encountered in divide\n",
      "  oob_decision_function = predictions / predictions.sum(axis=1)[:, np.newaxis]\n"
     ]
    }
   ],
   "source": [
    "sgd = SGDClassifier(max_iter=500)\n",
    "sgd_final = BaggingClassifier(base_estimator = sgd,\n",
    "                          n_estimators = 10,\n",
    "                          max_samples=0.63, oob_score=True)\n",
    "sgd_final.fit(X_train,y_train)\n",
    "y_pred = sgd_final.predict(X_test)\n",
    "precision_sgd = precision_score(y_test, y_pred,average='macro')\n",
    "accuracy_sgd = accuracy_score(y_test, y_pred)\n",
    "f1_sgd = f1_score(y_test, y_pred,average='macro')\n",
    "recall_sgd = recall_score(y_test, y_pred,average='macro')\n",
    "print(precision_sgd)\n",
    "print(accuracy_sgd)\n",
    "print(f1_sgd)\n",
    "print(recall_sgd)"
   ]
  },
  {
   "cell_type": "code",
   "execution_count": 13,
   "id": "9c7984cc",
   "metadata": {},
   "outputs": [],
   "source": [
    "with open('model_sgd.pkl', 'wb') as f:\n",
    "    pickle.dump(sgd_final, f)"
   ]
  },
  {
   "cell_type": "code",
   "execution_count": 15,
   "id": "4d92972e",
   "metadata": {},
   "outputs": [
    {
     "name": "stderr",
     "output_type": "stream",
     "text": [
      "C:\\Users\\Hp\\anaconda3\\lib\\site-packages\\sklearn\\ensemble\\_base.py:166: FutureWarning: `base_estimator` was renamed to `estimator` in version 1.2 and will be removed in 1.4.\n",
      "  warnings.warn(\n"
     ]
    },
    {
     "name": "stdout",
     "output_type": "stream",
     "text": [
      "0.5177470293525854\n",
      "0.5115115115115115\n",
      "0.4944571540464069\n",
      "0.5115656565656566\n"
     ]
    }
   ],
   "source": [
    "gaussian_NB = GaussianNB()\n",
    "gaussian_NB_final = BaggingClassifier(base_estimator = gaussian_NB, n_estimators = 100,max_samples=0.63, oob_score=True)\n",
    "gaussian_NB_final.fit(X_train,y_train)\n",
    "y_pred = gaussian_NB_final.predict(X_test)\n",
    "precision_gaussian = precision_score(y_test, y_pred,average='macro')\n",
    "accuracy_gaussian = accuracy_score(y_test, y_pred)\n",
    "f1_gaussian = f1_score(y_test, y_pred,average='macro')\n",
    "recall_gaussian = recall_score(y_test, y_pred,average='macro')\n",
    "print(precision_gaussian)\n",
    "print(accuracy_gaussian)\n",
    "print(f1_gaussian)\n",
    "print(recall_gaussian)"
   ]
  },
  {
   "cell_type": "code",
   "execution_count": 16,
   "id": "2d513ac2",
   "metadata": {},
   "outputs": [],
   "source": [
    "with open('model_gaussian.pkl', 'wb') as f:\n",
    "    pickle.dump(gaussian_NB_final, f)"
   ]
  },
  {
   "cell_type": "code",
   "execution_count": null,
   "id": "79640ccb",
   "metadata": {},
   "outputs": [],
   "source": []
  },
  {
   "cell_type": "code",
   "execution_count": 17,
   "id": "3e3bfd33",
   "metadata": {},
   "outputs": [
    {
     "data": {
      "text/plain": [
       "array([[22,  0, 18,  4,  0,  7, 34,  0,  6,  9],\n",
       "       [ 1, 90,  0,  0,  0,  4,  0,  0,  2,  3],\n",
       "       [ 7,  3, 56,  7,  2,  2,  9,  3,  5,  5],\n",
       "       [ 2,  0, 13, 31,  5,  0, 21,  9,  8, 11],\n",
       "       [ 1,  0,  8, 16, 37,  0, 13, 14, 10,  1],\n",
       "       [ 1, 16, 17,  3,  0, 47,  2,  3,  2,  9],\n",
       "       [ 0,  1,  2,  1,  0,  0, 89,  0,  1,  6],\n",
       "       [ 1,  0,  8,  7,  3,  2,  0, 76,  2,  1],\n",
       "       [14,  0, 16,  1, 13,  2,  0,  7, 43,  4],\n",
       "       [ 6,  4, 12, 12,  2,  1, 39,  1,  3, 20]], dtype=int64)"
      ]
     },
     "execution_count": 17,
     "metadata": {},
     "output_type": "execute_result"
    }
   ],
   "source": [
    "cm = confusion_matrix(y_test,y_pred)\n",
    "cm"
   ]
  },
  {
   "cell_type": "code",
   "execution_count": 18,
   "id": "24a8e932",
   "metadata": {},
   "outputs": [],
   "source": [
    "my_classes = ['blues','classical','country','disco',\\\n",
    "              'hiphop','jazz','metal','pop','reggae','rock']"
   ]
  },
  {
   "cell_type": "code",
   "execution_count": 19,
   "id": "64b1d37a",
   "metadata": {},
   "outputs": [
    {
     "data": {
      "image/png": "[encoded data removed]",
      "text/plain": [
       "<Figure size 640x480 with 2 Axes>"
      ]
     },
     "metadata": {},
     "output_type": "display_data"
    }
   ],
   "source": [
    "fig, ax = plt.subplots()\n",
    "sns.heatmap(cm, annot=True, cmap='Blues', fmt='g', xticklabels=my_classes, yticklabels=my_classes, ax=ax)\n",
    "ax.set_xlabel('Predicted labels')\n",
    "ax.set_ylabel('True labels')\n",
    "ax.set_title('Confusion Matrix')\n",
    "plt.show()"
   ]
  },
  {
   "cell_type": "code",
   "execution_count": null,
   "id": "ff9796ad",
   "metadata": {},
   "outputs": [],
   "source": []
  },
  {
   "cell_type": "code",
   "execution_count": 20,
   "id": "cf639e24",
   "metadata": {},
   "outputs": [],
   "source": [
    "from sklearn.ensemble import VotingClassifier"
   ]
  },
  {
   "cell_type": "code",
   "execution_count": 31,
   "id": "242274e5",
   "metadata": {},
   "outputs": [
    {
     "name": "stderr",
     "output_type": "stream",
     "text": [
      "C:\\Users\\Hp\\anaconda3\\lib\\site-packages\\sklearn\\ensemble\\_base.py:166: FutureWarning: `base_estimator` was renamed to `estimator` in version 1.2 and will be removed in 1.4.\n",
      "  warnings.warn(\n",
      "C:\\Users\\Hp\\anaconda3\\lib\\site-packages\\sklearn\\ensemble\\_base.py:166: FutureWarning: `base_estimator` was renamed to `estimator` in version 1.2 and will be removed in 1.4.\n",
      "  warnings.warn(\n",
      "C:\\Users\\Hp\\anaconda3\\lib\\site-packages\\sklearn\\ensemble\\_bagging.py:789: UserWarning: Some inputs do not have OOB scores. This probably means too few estimators were used to compute any reliable oob estimates.\n",
      "  warn(\n",
      "C:\\Users\\Hp\\anaconda3\\lib\\site-packages\\sklearn\\ensemble\\_bagging.py:795: RuntimeWarning: invalid value encountered in divide\n",
      "  oob_decision_function = predictions / predictions.sum(axis=1)[:, np.newaxis]\n",
      "C:\\Users\\Hp\\anaconda3\\lib\\site-packages\\sklearn\\ensemble\\_base.py:166: FutureWarning: `base_estimator` was renamed to `estimator` in version 1.2 and will be removed in 1.4.\n",
      "  warnings.warn(\n"
     ]
    },
    {
     "data": {
      "text/html": [
       "<style>#sk-container-id-2 {color: black;background-color: white;}#sk-container-id-2 pre{padding: 0;}#sk-container-id-2 div.sk-toggleable {background-color: white;}#sk-container-id-2 label.sk-toggleable__label {cursor: pointer;display: block;width: 100%;margin-bottom: 0;padding: 0.3em;box-sizing: border-box;text-align: center;}#sk-container-id-2 label.sk-toggleable__label-arrow:before {content: \"▸\";float: left;margin-right: 0.25em;color: #696969;}#sk-container-id-2 label.sk-toggleable__label-arrow:hover:before {color: black;}#sk-container-id-2 div.sk-estimator:hover label.sk-toggleable__label-arrow:before {color: black;}#sk-container-id-2 div.sk-toggleable__content {max-height: 0;max-width: 0;overflow: hidden;text-align: left;background-color: #f0f8ff;}#sk-container-id-2 div.sk-toggleable__content pre {margin: 0.2em;color: black;border-radius: 0.25em;background-color: #f0f8ff;}#sk-container-id-2 input.sk-toggleable__control:checked~div.sk-toggleable__content {max-height: 200px;max-width: 100%;overflow: auto;}#sk-container-id-2 input.sk-toggleable__control:checked~label.sk-toggleable__label-arrow:before {content: \"▾\";}#sk-container-id-2 div.sk-estimator input.sk-toggleable__control:checked~label.sk-toggleable__label {background-color: #d4ebff;}#sk-container-id-2 div.sk-label input.sk-toggleable__control:checked~label.sk-toggleable__label {background-color: #d4ebff;}#sk-container-id-2 input.sk-hidden--visually {border: 0;clip: rect(1px 1px 1px 1px);clip: rect(1px, 1px, 1px, 1px);height: 1px;margin: -1px;overflow: hidden;padding: 0;position: absolute;width: 1px;}#sk-container-id-2 div.sk-estimator {font-family: monospace;background-color: #f0f8ff;border: 1px dotted black;border-radius: 0.25em;box-sizing: border-box;margin-bottom: 0.5em;}#sk-container-id-2 div.sk-estimator:hover {background-color: #d4ebff;}#sk-container-id-2 div.sk-parallel-item::after {content: \"\";width: 100%;border-bottom: 1px solid gray;flex-grow: 1;}#sk-container-id-2 div.sk-label:hover label.sk-toggleable__label {background-color: #d4ebff;}#sk-container-id-2 div.sk-serial::before {content: \"\";position: absolute;border-left: 1px solid gray;box-sizing: border-box;top: 0;bottom: 0;left: 50%;z-index: 0;}#sk-container-id-2 div.sk-serial {display: flex;flex-direction: column;align-items: center;background-color: white;padding-right: 0.2em;padding-left: 0.2em;position: relative;}#sk-container-id-2 div.sk-item {position: relative;z-index: 1;}#sk-container-id-2 div.sk-parallel {display: flex;align-items: stretch;justify-content: center;background-color: white;position: relative;}#sk-container-id-2 div.sk-item::before, #sk-container-id-2 div.sk-parallel-item::before {content: \"\";position: absolute;border-left: 1px solid gray;box-sizing: border-box;top: 0;bottom: 0;left: 50%;z-index: -1;}#sk-container-id-2 div.sk-parallel-item {display: flex;flex-direction: column;z-index: 1;position: relative;background-color: white;}#sk-container-id-2 div.sk-parallel-item:first-child::after {align-self: flex-end;width: 50%;}#sk-container-id-2 div.sk-parallel-item:last-child::after {align-self: flex-start;width: 50%;}#sk-container-id-2 div.sk-parallel-item:only-child::after {width: 0;}#sk-container-id-2 div.sk-dashed-wrapped {border: 1px dashed gray;margin: 0 0.4em 0.5em 0.4em;box-sizing: border-box;padding-bottom: 0.4em;background-color: white;}#sk-container-id-2 div.sk-label label {font-family: monospace;font-weight: bold;display: inline-block;line-height: 1.2em;}#sk-container-id-2 div.sk-label-container {text-align: center;}#sk-container-id-2 div.sk-container {/* jupyter's `normalize.less` sets `[hidden] { display: none; }` but bootstrap.min.css set `[hidden] { display: none !important; }` so we also need the `!important` here to be able to override the default hidden behavior on the sphinx rendered scikit-learn.org. See: https://github.com/scikit-learn/scikit-learn/issues/21755 */display: inline-block !important;position: relative;}#sk-container-id-2 div.sk-text-repr-fallback {display: none;}</style><div id=\"sk-container-id-2\" class=\"sk-top-container\"><div class=\"sk-text-repr-fallback\"><pre>VotingClassifier(estimators=[(&#x27;gaussian_NB&#x27;,\n",
       "                              BaggingClassifier(base_estimator=GaussianNB(),\n",
       "                                                max_samples=0.63,\n",
       "                                                n_estimators=100,\n",
       "                                                oob_score=True)),\n",
       "                             (&#x27;SGD&#x27;,\n",
       "                              BaggingClassifier(base_estimator=SGDClassifier(max_iter=500),\n",
       "                                                max_samples=0.63,\n",
       "                                                oob_score=True)),\n",
       "                             (&#x27;r_forest_tuned&#x27;,\n",
       "                              RandomForestClassifier(n_estimators=1000)),\n",
       "                             (&#x27;ada&#x27;,\n",
       "                              AdaBoostClassifier(base_estimator=RandomForestClassifier(n_estimators=1000),\n",
       "                                                 n_estimators=5)),\n",
       "                             (&#x27;cat&#x27;,\n",
       "                              &lt;catboost.core.CatBoostClassifier object at 0x000001877259A0B0&gt;)],\n",
       "                 voting=&#x27;soft&#x27;)</pre><b>In a Jupyter environment, please rerun this cell to show the HTML representation or trust the notebook. <br />On GitHub, the HTML representation is unable to render, please try loading this page with nbviewer.org.</b></div><div class=\"sk-container\" hidden><div class=\"sk-item sk-dashed-wrapped\"><div class=\"sk-label-container\"><div class=\"sk-label sk-toggleable\"><input class=\"sk-toggleable__control sk-hidden--visually\" id=\"sk-estimator-id-10\" type=\"checkbox\" ><label for=\"sk-estimator-id-10\" class=\"sk-toggleable__label sk-toggleable__label-arrow\">VotingClassifier</label><div class=\"sk-toggleable__content\"><pre>VotingClassifier(estimators=[(&#x27;gaussian_NB&#x27;,\n",
       "                              BaggingClassifier(base_estimator=GaussianNB(),\n",
       "                                                max_samples=0.63,\n",
       "                                                n_estimators=100,\n",
       "                                                oob_score=True)),\n",
       "                             (&#x27;SGD&#x27;,\n",
       "                              BaggingClassifier(base_estimator=SGDClassifier(max_iter=500),\n",
       "                                                max_samples=0.63,\n",
       "                                                oob_score=True)),\n",
       "                             (&#x27;r_forest_tuned&#x27;,\n",
       "                              RandomForestClassifier(n_estimators=1000)),\n",
       "                             (&#x27;ada&#x27;,\n",
       "                              AdaBoostClassifier(base_estimator=RandomForestClassifier(n_estimators=1000),\n",
       "                                                 n_estimators=5)),\n",
       "                             (&#x27;cat&#x27;,\n",
       "                              &lt;catboost.core.CatBoostClassifier object at 0x000001877259A0B0&gt;)],\n",
       "                 voting=&#x27;soft&#x27;)</pre></div></div></div><div class=\"sk-parallel\"><div class=\"sk-parallel-item\"><div class=\"sk-item\"><div class=\"sk-label-container\"><div class=\"sk-label sk-toggleable\"><label>gaussian_NB</label></div></div><div class=\"sk-serial\"><div class=\"sk-item sk-dashed-wrapped\"><div class=\"sk-parallel\"><div class=\"sk-parallel-item\"><div class=\"sk-item\"><div class=\"sk-label-container\"><div class=\"sk-label sk-toggleable\"><input class=\"sk-toggleable__control sk-hidden--visually\" id=\"sk-estimator-id-11\" type=\"checkbox\" ><label for=\"sk-estimator-id-11\" class=\"sk-toggleable__label sk-toggleable__label-arrow\">base_estimator: GaussianNB</label><div class=\"sk-toggleable__content\"><pre>GaussianNB()</pre></div></div></div><div class=\"sk-serial\"><div class=\"sk-item\"><div class=\"sk-estimator sk-toggleable\"><input class=\"sk-toggleable__control sk-hidden--visually\" id=\"sk-estimator-id-12\" type=\"checkbox\" ><label for=\"sk-estimator-id-12\" class=\"sk-toggleable__label sk-toggleable__label-arrow\">GaussianNB</label><div class=\"sk-toggleable__content\"><pre>GaussianNB()</pre></div></div></div></div></div></div></div></div></div></div></div><div class=\"sk-parallel-item\"><div class=\"sk-item\"><div class=\"sk-label-container\"><div class=\"sk-label sk-toggleable\"><label>SGD</label></div></div><div class=\"sk-serial\"><div class=\"sk-item sk-dashed-wrapped\"><div class=\"sk-parallel\"><div class=\"sk-parallel-item\"><div class=\"sk-item\"><div class=\"sk-label-container\"><div class=\"sk-label sk-toggleable\"><input class=\"sk-toggleable__control sk-hidden--visually\" id=\"sk-estimator-id-13\" type=\"checkbox\" ><label for=\"sk-estimator-id-13\" class=\"sk-toggleable__label sk-toggleable__label-arrow\">base_estimator: SGDClassifier</label><div class=\"sk-toggleable__content\"><pre>SGDClassifier(max_iter=500)</pre></div></div></div><div class=\"sk-serial\"><div class=\"sk-item\"><div class=\"sk-estimator sk-toggleable\"><input class=\"sk-toggleable__control sk-hidden--visually\" id=\"sk-estimator-id-14\" type=\"checkbox\" ><label for=\"sk-estimator-id-14\" class=\"sk-toggleable__label sk-toggleable__label-arrow\">SGDClassifier</label><div class=\"sk-toggleable__content\"><pre>SGDClassifier(max_iter=500)</pre></div></div></div></div></div></div></div></div></div></div></div><div class=\"sk-parallel-item\"><div class=\"sk-item\"><div class=\"sk-label-container\"><div class=\"sk-label sk-toggleable\"><label>r_forest_tuned</label></div></div><div class=\"sk-serial\"><div class=\"sk-item\"><div class=\"sk-estimator sk-toggleable\"><input class=\"sk-toggleable__control sk-hidden--visually\" id=\"sk-estimator-id-15\" type=\"checkbox\" ><label for=\"sk-estimator-id-15\" class=\"sk-toggleable__label sk-toggleable__label-arrow\">RandomForestClassifier</label><div class=\"sk-toggleable__content\"><pre>RandomForestClassifier(n_estimators=1000)</pre></div></div></div></div></div></div><div class=\"sk-parallel-item\"><div class=\"sk-item\"><div class=\"sk-label-container\"><div class=\"sk-label sk-toggleable\"><label>ada</label></div></div><div class=\"sk-serial\"><div class=\"sk-item sk-dashed-wrapped\"><div class=\"sk-parallel\"><div class=\"sk-parallel-item\"><div class=\"sk-item\"><div class=\"sk-label-container\"><div class=\"sk-label sk-toggleable\"><input class=\"sk-toggleable__control sk-hidden--visually\" id=\"sk-estimator-id-16\" type=\"checkbox\" ><label for=\"sk-estimator-id-16\" class=\"sk-toggleable__label sk-toggleable__label-arrow\">base_estimator: RandomForestClassifier</label><div class=\"sk-toggleable__content\"><pre>RandomForestClassifier(n_estimators=1000)</pre></div></div></div><div class=\"sk-serial\"><div class=\"sk-item\"><div class=\"sk-estimator sk-toggleable\"><input class=\"sk-toggleable__control sk-hidden--visually\" id=\"sk-estimator-id-17\" type=\"checkbox\" ><label for=\"sk-estimator-id-17\" class=\"sk-toggleable__label sk-toggleable__label-arrow\">RandomForestClassifier</label><div class=\"sk-toggleable__content\"><pre>RandomForestClassifier(n_estimators=1000)</pre></div></div></div></div></div></div></div></div></div></div></div><div class=\"sk-parallel-item\"><div class=\"sk-item\"><div class=\"sk-label-container\"><div class=\"sk-label sk-toggleable\"><label>cat</label></div></div><div class=\"sk-serial\"><div class=\"sk-item\"><div class=\"sk-estimator sk-toggleable\"><input class=\"sk-toggleable__control sk-hidden--visually\" id=\"sk-estimator-id-18\" type=\"checkbox\" ><label for=\"sk-estimator-id-18\" class=\"sk-toggleable__label sk-toggleable__label-arrow\">CatBoostClassifier</label><div class=\"sk-toggleable__content\"><pre>&lt;catboost.core.CatBoostClassifier object at 0x000001877259A0B0&gt;</pre></div></div></div></div></div></div></div></div></div></div>"
      ],
      "text/plain": [
       "VotingClassifier(estimators=[('gaussian_NB',\n",
       "                              BaggingClassifier(base_estimator=GaussianNB(),\n",
       "                                                max_samples=0.63,\n",
       "                                                n_estimators=100,\n",
       "                                                oob_score=True)),\n",
       "                             ('SGD',\n",
       "                              BaggingClassifier(base_estimator=SGDClassifier(max_iter=500),\n",
       "                                                max_samples=0.63,\n",
       "                                                oob_score=True)),\n",
       "                             ('r_forest_tuned',\n",
       "                              RandomForestClassifier(n_estimators=1000)),\n",
       "                             ('ada',\n",
       "                              AdaBoostClassifier(base_estimator=RandomForestClassifier(n_estimators=1000),\n",
       "                                                 n_estimators=5)),\n",
       "                             ('cat',\n",
       "                              <catboost.core.CatBoostClassifier object at 0x000001877259A0B0>)],\n",
       "                 voting='soft')"
      ]
     },
     "execution_count": 31,
     "metadata": {},
     "output_type": "execute_result"
    }
   ],
   "source": [
    "voting_clf = VotingClassifier(\n",
    "    estimators=[('gaussian_NB', gaussian_NB_final), ('SGD', sgd_final), ('r_forest_tuned', rforest_normal),('ada',ada1),('cat',cat)],\n",
    "    voting='soft'\n",
    ")\n",
    "\n",
    "# Train the voting classifier on the training set\n",
    "voting_clf.fit(X_train, y_train)"
   ]
  },
  {
   "cell_type": "code",
   "execution_count": null,
   "id": "58dacc58",
   "metadata": {},
   "outputs": [],
   "source": []
  },
  {
   "cell_type": "code",
   "execution_count": null,
   "id": "34e0ea5c",
   "metadata": {},
   "outputs": [],
   "source": []
  },
  {
   "cell_type": "code",
   "execution_count": 32,
   "id": "b11f30cf",
   "metadata": {},
   "outputs": [],
   "source": [
    "final_y_pred = voting_clf.predict(X_test)"
   ]
  },
  {
   "cell_type": "code",
   "execution_count": 33,
   "id": "7d613ca1",
   "metadata": {},
   "outputs": [
    {
     "name": "stdout",
     "output_type": "stream",
     "text": [
      "0.8296582015564254\n",
      "0.8288288288288288\n",
      "0.8279252632375727\n",
      "0.8287979797979798\n"
     ]
    }
   ],
   "source": [
    "precision_vote = precision_score(y_test, final_y_pred,average='macro')\n",
    "accuracy_vote = accuracy_score(y_test, final_y_pred)\n",
    "f1_vote = f1_score(y_test, final_y_pred,average='macro')\n",
    "recall_vote = recall_score(y_test, final_y_pred,average='macro')\n",
    "print(precision_vote)\n",
    "print(accuracy_vote)\n",
    "print(f1_vote)\n",
    "print(recall_vote)"
   ]
  },
  {
   "cell_type": "code",
   "execution_count": null,
   "id": "7da0df06",
   "metadata": {},
   "outputs": [],
   "source": []
  }
 ],
 "metadata": {
  "kernelspec": {
   "display_name": "Python 3 (ipykernel)",
   "language": "python",
   "name": "python3"
  },
  "language_info": {
   "codemirror_mode": {
    "name": "ipython",
    "version": 3
   },
   "file_extension": ".py",
   "mimetype": "text/x-python",
   "name": "python",
   "nbconvert_exporter": "python",
   "pygments_lexer": "ipython3",
   "version": "3.10.9"
  }
 },
 "nbformat": 4,
 "nbformat_minor": 5
}
